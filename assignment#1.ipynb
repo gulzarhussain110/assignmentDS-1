{
 "cells": [
  {
   "cell_type": "code",
   "execution_count": 1,
   "id": "cbd5853c",
   "metadata": {},
   "outputs": [
    {
     "name": "stdout",
     "output_type": "stream",
     "text": [
      "Twinkle, twikel, little star, \n",
      "\t How I wonder what you are \n",
      "\t\tUp above the world so high\n",
      "\t\tLike a diamond in the sky\n",
      "Twinkle twinkle little star\n",
      "\tHow I wonder what you are\n"
     ]
    }
   ],
   "source": [
    "print(\"Twinkle, twikel, little star, \\n\\t How I wonder what you are \\n\\t\\tUp above the world so high\\n\\t\\tLike a diamond in the sky\\nTwinkle twinkle little star\\n\\tHow I wonder what you are\")"
   ]
  },
  {
   "cell_type": "code",
   "execution_count": 4,
   "id": "219277c1",
   "metadata": {},
   "outputs": [
    {
     "name": "stdout",
     "output_type": "stream",
     "text": [
      "Python version\n",
      "3.9.7 (default, Sep 16 2021, 16:59:28) [MSC v.1916 64 bit (AMD64)]\n"
     ]
    }
   ],
   "source": [
    "import sys\n",
    "print(\"Python version\")\n",
    "print (sys.version)"
   ]
  },
  {
   "cell_type": "code",
   "execution_count": 1,
   "id": "ae311dfa",
   "metadata": {},
   "outputs": [
    {
     "name": "stdout",
     "output_type": "stream",
     "text": [
      "2022-01-01 22:32:41.879463\n"
     ]
    }
   ],
   "source": [
    "import datetime\n",
    "now = datetime.datetime.now()\n",
    "print (now)"
   ]
  },
  {
   "cell_type": "code",
   "execution_count": 1,
   "id": "7bcf6079",
   "metadata": {},
   "outputs": [
    {
     "name": "stdout",
     "output_type": "stream",
     "text": [
      "enter the radius of circle20\n",
      "1256.0\n"
     ]
    }
   ],
   "source": [
    "radius=int(input(\"enter the radius of circle\"))\n",
    "sqOfRadius=radius*radius\n",
    "pie=3.14 \n",
    "areaOfCircle=pie*sqOfRadius\n",
    "print(areaOfCircle)\n"
   ]
  },
  {
   "cell_type": "code",
   "execution_count": 1,
   "id": "c0321ad6",
   "metadata": {},
   "outputs": [
    {
     "name": "stdout",
     "output_type": "stream",
     "text": [
      "Enter Your First Name : Gulzar\n",
      "Enter Your First Name : Hussain\n",
      "razluG niassuH\n"
     ]
    }
   ],
   "source": [
    "firstName=input(\"Enter Your First Name : \")[::-1]\n",
    "lastName=input(\"Enter Your Last Name : \")[::-1]\n",
    "print(firstName +\" \" + lastName)"
   ]
  },
  {
   "cell_type": "code",
   "execution_count": 1,
   "id": "27abb809",
   "metadata": {},
   "outputs": [
    {
     "name": "stdout",
     "output_type": "stream",
     "text": [
      "enter the first num 12\n",
      "enter the second num 12\n",
      "24\n"
     ]
    }
   ],
   "source": [
    "firstNum=int(input(\"enter the first num \"))\n",
    "SecNum=int(input(\"enter the second num \"))\n",
    "addition= firstNum + SecNum\n",
    "print(addition)"
   ]
  },
  {
   "cell_type": "code",
   "execution_count": null,
   "id": "9ec527ff",
   "metadata": {},
   "outputs": [],
   "source": []
  },
  {
   "cell_type": "code",
   "execution_count": null,
   "id": "c942de34",
   "metadata": {},
   "outputs": [],
   "source": []
  },
  {
   "cell_type": "code",
   "execution_count": null,
   "id": "e1a4a8ce",
   "metadata": {},
   "outputs": [],
   "source": []
  }
 ],
 "metadata": {
  "kernelspec": {
   "display_name": "Python 3 (ipykernel)",
   "language": "python",
   "name": "python3"
  },
  "language_info": {
   "codemirror_mode": {
    "name": "ipython",
    "version": 3
   },
   "file_extension": ".py",
   "mimetype": "text/x-python",
   "name": "python",
   "nbconvert_exporter": "python",
   "pygments_lexer": "ipython3",
   "version": "3.9.7"
  }
 },
 "nbformat": 4,
 "nbformat_minor": 5
}
